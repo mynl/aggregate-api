{
 "cells": [
  {
   "cell_type": "markdown",
   "id": "346c8eeb-de6a-47a5-8081-d8948306dcb6",
   "metadata": {},
   "source": [
    "# Aggregate API project \n",
    "\n",
    "\n",
    "## Provenance\n",
    "\n",
    "* New May 2023 - after chat with David Wright "
   ]
  },
  {
   "cell_type": "code",
   "execution_count": 48,
   "id": "98ce5e0b-7a25-43b6-abc5-db9b46fca62f",
   "metadata": {
    "tags": []
   },
   "outputs": [
    {
     "name": "stdout",
     "output_type": "stream",
     "text": [
      "time: 0 ns (started: 2023-05-18 16:58:17 +01:00)\n"
     ]
    }
   ],
   "source": [
    "import requests\n",
    "import json\n",
    "from aggregate import build, qd, Aggregate, Distortion, Portfolio"
   ]
  },
  {
   "cell_type": "code",
   "execution_count": 47,
   "id": "d8cb2bc3-f0f1-4832-b74c-defc82853e69",
   "metadata": {
    "tags": []
   },
   "outputs": [
    {
     "name": "stdout",
     "output_type": "stream",
     "text": [
      "Status Code: 200\n",
      "Response Body: {\n",
      "  \"result\": \"{\\\"L\\\":{\\\"Steve_Agg\\\":10806.4919282963},\\\"P\\\":{\\\"Steve_Agg\\\":19560.1570862737},\\\"M\\\":{\\\"Steve_Agg\\\":8753.6651579775},\\\"Q\\\":{\\\"Steve_Agg\\\":14545.8429137263},\\\"a\\\":{\\\"Steve_Agg\\\":34106.0},\\\"LR\\\":{\\\"Steve_Agg\\\":0.5524747005},\\\"PQ\\\":{\\\"Steve_Agg\\\":1.3447248951},\\\"ROE\\\":{\\\"Steve_Agg\\\":0.6017984114}}\"\n",
      "}\n",
      "\n"
     ]
    },
    {
     "data": {
      "text/html": [
       "<div>\n",
       "<style scoped>\n",
       "    .dataframe tbody tr th:only-of-type {\n",
       "        vertical-align: middle;\n",
       "    }\n",
       "\n",
       "    .dataframe tbody tr th {\n",
       "        vertical-align: top;\n",
       "    }\n",
       "\n",
       "    .dataframe thead th {\n",
       "        text-align: right;\n",
       "    }\n",
       "</style>\n",
       "<table border=\"1\" class=\"dataframe\">\n",
       "  <thead>\n",
       "    <tr style=\"text-align: right;\">\n",
       "      <th></th>\n",
       "      <th>L</th>\n",
       "      <th>P</th>\n",
       "      <th>M</th>\n",
       "      <th>Q</th>\n",
       "      <th>a</th>\n",
       "      <th>LR</th>\n",
       "      <th>PQ</th>\n",
       "      <th>ROE</th>\n",
       "    </tr>\n",
       "  </thead>\n",
       "  <tbody>\n",
       "    <tr>\n",
       "      <th>Steve_Agg</th>\n",
       "      <td>10.806k</td>\n",
       "      <td>19.560k</td>\n",
       "      <td>8.754k</td>\n",
       "      <td>14.546k</td>\n",
       "      <td>34.106k</td>\n",
       "      <td>552.475m</td>\n",
       "      <td>1.345</td>\n",
       "      <td>601.798m</td>\n",
       "    </tr>\n",
       "  </tbody>\n",
       "</table>\n",
       "</div>"
      ],
      "text/plain": [
       "                 L        P       M        Q        a        LR     PQ       ROE\n",
       "Steve_Agg  10.806k  19.560k  8.754k  14.546k  34.106k  552.475m  1.345  601.798m"
      ]
     },
     "metadata": {},
     "output_type": "display_data"
    },
    {
     "name": "stdout",
     "output_type": "stream",
     "text": [
      "time: 2.73 s (started: 2023-05-18 16:57:18 +01:00)\n"
     ]
    }
   ],
   "source": [
    "# Define the url.\n",
    "url = 'http://192.168.4.43:1964/price'\n",
    "# url = 'http://localhost:1964/price'\n",
    "\n",
    "# Define the JSON payload.\n",
    "payload = { 'agg' : {'name': 'Steve_Agg', \n",
    "                     'sev_mean': 1200,\n",
    "                     'sev_cv': 2.5,\n",
    "                     'freq_name': 'poisson',\n",
    "                     # 'freq_a': .24\n",
    "                    },\n",
    "           'distortion': {'name': 'wang', 'shape': 1.2, 'display_name': 'Wang12'}, \n",
    "           'pricing': {'percentile': 0.996}\n",
    "          }\n",
    "\n",
    "# Convert dictionary into json format\n",
    "json_payload = json.dumps(payload)\n",
    "\n",
    "# Set Content-Type to application/json\n",
    "headers = {\n",
    "    'Content-Type': 'application/json'\n",
    "}\n",
    "\n",
    "# Make the request.\n",
    "response = requests.post(url, data=json_payload, headers=headers)\n",
    "\n",
    "# Print the status code and response body.\n",
    "print(f\"Status Code: {response.status_code}\")\n",
    "print(f\"Response Body: {response.text}\")\n",
    "\n",
    "if response.status_code == 200:\n",
    "    d = response.json()\n",
    "    df = pd.DataFrame.from_dict(json.loads(d['result']))\n",
    "    display(df)"
   ]
  },
  {
   "cell_type": "code",
   "execution_count": null,
   "id": "34bf0270-3c4d-469a-8915-c0c7630088f6",
   "metadata": {},
   "outputs": [],
   "source": []
  },
  {
   "cell_type": "code",
   "execution_count": 55,
   "id": "9cc0e613-484d-4e5b-95bd-e1b75a617df5",
   "metadata": {
    "tags": []
   },
   "outputs": [
    {
     "name": "stdout",
     "output_type": "stream",
     "text": [
      "time: 32 ms (started: 2023-05-18 17:04:23 +01:00)\n"
     ]
    }
   ],
   "source": [
    "a = build('agg DRDR dfreq [1:6] dsev [1:6]')"
   ]
  },
  {
   "cell_type": "code",
   "execution_count": 57,
   "id": "e514f463-0b82-48b2-a6e7-ddfb2cb3bd1f",
   "metadata": {
    "tags": []
   },
   "outputs": [
    {
     "data": {
      "text/html": [
       "<div>\n",
       "<style scoped>\n",
       "    .dataframe tbody tr th:only-of-type {\n",
       "        vertical-align: middle;\n",
       "    }\n",
       "\n",
       "    .dataframe tbody tr th {\n",
       "        vertical-align: top;\n",
       "    }\n",
       "\n",
       "    .dataframe thead th {\n",
       "        text-align: right;\n",
       "    }\n",
       "</style>\n",
       "<table border=\"1\" class=\"dataframe\">\n",
       "  <thead>\n",
       "    <tr style=\"text-align: right;\">\n",
       "      <th></th>\n",
       "      <th>E[X]</th>\n",
       "      <th>Est E[X]</th>\n",
       "      <th>Err E[X]</th>\n",
       "      <th>CV(X)</th>\n",
       "      <th>Est CV(X)</th>\n",
       "      <th>Err CV(X)</th>\n",
       "      <th>Skew(X)</th>\n",
       "      <th>Est Skew(X)</th>\n",
       "    </tr>\n",
       "    <tr>\n",
       "      <th>X</th>\n",
       "      <th></th>\n",
       "      <th></th>\n",
       "      <th></th>\n",
       "      <th></th>\n",
       "      <th></th>\n",
       "      <th></th>\n",
       "      <th></th>\n",
       "      <th></th>\n",
       "    </tr>\n",
       "  </thead>\n",
       "  <tbody>\n",
       "    <tr>\n",
       "      <th>Freq</th>\n",
       "      <td>3.500</td>\n",
       "      <td>NaN</td>\n",
       "      <td>NaN</td>\n",
       "      <td>487.950m</td>\n",
       "      <td>NaN</td>\n",
       "      <td>NaN</td>\n",
       "      <td>0.000</td>\n",
       "      <td>NaN</td>\n",
       "    </tr>\n",
       "    <tr>\n",
       "      <th>Sev</th>\n",
       "      <td>3.500</td>\n",
       "      <td>3.500</td>\n",
       "      <td>0.000</td>\n",
       "      <td>487.950m</td>\n",
       "      <td>487.950m</td>\n",
       "      <td>-333.067a</td>\n",
       "      <td>0.000</td>\n",
       "      <td>2.853f</td>\n",
       "    </tr>\n",
       "    <tr>\n",
       "      <th>Agg</th>\n",
       "      <td>12.250</td>\n",
       "      <td>12.250</td>\n",
       "      <td>1.554f</td>\n",
       "      <td>553.283m</td>\n",
       "      <td>553.283m</td>\n",
       "      <td>23.093f</td>\n",
       "      <td>286.888m</td>\n",
       "      <td>286.888m</td>\n",
       "    </tr>\n",
       "  </tbody>\n",
       "</table>\n",
       "</div>"
      ],
      "text/plain": [
       "        E[X]  Est E[X]  Err E[X]     CV(X)  Est CV(X)  Err CV(X)   Skew(X)  Est Skew(X)\n",
       "X                                                                                      \n",
       "Freq   3.500       NaN       NaN  487.950m        NaN        NaN     0.000          NaN\n",
       "Sev    3.500     3.500     0.000  487.950m   487.950m  -333.067a     0.000       2.853f\n",
       "Agg   12.250    12.250    1.554f  553.283m   553.283m    23.093f  286.888m     286.888m"
      ]
     },
     "execution_count": 57,
     "metadata": {},
     "output_type": "execute_result"
    },
    {
     "name": "stdout",
     "output_type": "stream",
     "text": [
      "time: 16 ms (started: 2023-05-18 17:04:35 +01:00)\n"
     ]
    }
   ],
   "source": [
    "a.describe"
   ]
  },
  {
   "cell_type": "code",
   "execution_count": 74,
   "id": "827c9f81-55f1-464a-bc2a-92c5cbddeffc",
   "metadata": {
    "tags": []
   },
   "outputs": [
    {
     "name": "stdout",
     "output_type": "stream",
     "text": [
      "Status Code: 200\n",
      "agg HDRDR dfreq [1:3] dsev [1:6]\n"
     ]
    },
    {
     "data": {
      "text/html": [
       "<div>\n",
       "<style scoped>\n",
       "    .dataframe tbody tr th:only-of-type {\n",
       "        vertical-align: middle;\n",
       "    }\n",
       "\n",
       "    .dataframe tbody tr th {\n",
       "        vertical-align: top;\n",
       "    }\n",
       "\n",
       "    .dataframe thead th {\n",
       "        text-align: right;\n",
       "    }\n",
       "</style>\n",
       "<table border=\"1\" class=\"dataframe\">\n",
       "  <thead>\n",
       "    <tr style=\"text-align: right;\">\n",
       "      <th></th>\n",
       "      <th>E[X]</th>\n",
       "      <th>Est E[X]</th>\n",
       "      <th>Err E[X]</th>\n",
       "      <th>CV(X)</th>\n",
       "      <th>Est CV(X)</th>\n",
       "      <th>Err CV(X)</th>\n",
       "      <th>Skew(X)</th>\n",
       "      <th>Est Skew(X)</th>\n",
       "    </tr>\n",
       "  </thead>\n",
       "  <tbody>\n",
       "    <tr>\n",
       "      <th>Freq</th>\n",
       "      <td>2.000</td>\n",
       "      <td>NaN</td>\n",
       "      <td>NaN</td>\n",
       "      <td>408.248m</td>\n",
       "      <td>NaN</td>\n",
       "      <td>NaN</td>\n",
       "      <td>0.000</td>\n",
       "      <td>NaN</td>\n",
       "    </tr>\n",
       "    <tr>\n",
       "      <th>Sev</th>\n",
       "      <td>3.500</td>\n",
       "      <td>3.500</td>\n",
       "      <td>0.000</td>\n",
       "      <td>487.950m</td>\n",
       "      <td>487.950m</td>\n",
       "      <td>-333.067a</td>\n",
       "      <td>0.000</td>\n",
       "      <td>0.000</td>\n",
       "    </tr>\n",
       "    <tr>\n",
       "      <th>Agg</th>\n",
       "      <td>7.000</td>\n",
       "      <td>7.000</td>\n",
       "      <td>-222.045a</td>\n",
       "      <td>534.522m</td>\n",
       "      <td>534.522m</td>\n",
       "      <td>666.134a</td>\n",
       "      <td>389.756m</td>\n",
       "      <td>389.756m</td>\n",
       "    </tr>\n",
       "  </tbody>\n",
       "</table>\n",
       "</div>"
      ],
      "text/plain": [
       "       E[X]  Est E[X]  Err E[X]     CV(X)  Est CV(X)  Err CV(X)   Skew(X)  Est Skew(X)\n",
       "Freq  2.000       NaN       NaN  408.248m        NaN        NaN     0.000          NaN\n",
       "Sev   3.500     3.500     0.000  487.950m   487.950m  -333.067a     0.000        0.000\n",
       "Agg   7.000     7.000 -222.045a  534.522m   534.522m   666.134a  389.756m     389.756m"
      ]
     },
     "metadata": {},
     "output_type": "display_data"
    },
    {
     "name": "stdout",
     "output_type": "stream",
     "text": [
      "\n",
      "agg DRDR dfreq [1:6] dsev [1:6]\n"
     ]
    },
    {
     "data": {
      "text/html": [
       "<div>\n",
       "<style scoped>\n",
       "    .dataframe tbody tr th:only-of-type {\n",
       "        vertical-align: middle;\n",
       "    }\n",
       "\n",
       "    .dataframe tbody tr th {\n",
       "        vertical-align: top;\n",
       "    }\n",
       "\n",
       "    .dataframe thead th {\n",
       "        text-align: right;\n",
       "    }\n",
       "</style>\n",
       "<table border=\"1\" class=\"dataframe\">\n",
       "  <thead>\n",
       "    <tr style=\"text-align: right;\">\n",
       "      <th></th>\n",
       "      <th>E[X]</th>\n",
       "      <th>Est E[X]</th>\n",
       "      <th>Err E[X]</th>\n",
       "      <th>CV(X)</th>\n",
       "      <th>Est CV(X)</th>\n",
       "      <th>Err CV(X)</th>\n",
       "      <th>Skew(X)</th>\n",
       "      <th>Est Skew(X)</th>\n",
       "    </tr>\n",
       "  </thead>\n",
       "  <tbody>\n",
       "    <tr>\n",
       "      <th>Freq</th>\n",
       "      <td>3.500</td>\n",
       "      <td>NaN</td>\n",
       "      <td>NaN</td>\n",
       "      <td>487.950m</td>\n",
       "      <td>NaN</td>\n",
       "      <td>NaN</td>\n",
       "      <td>0.000</td>\n",
       "      <td>NaN</td>\n",
       "    </tr>\n",
       "    <tr>\n",
       "      <th>Sev</th>\n",
       "      <td>3.500</td>\n",
       "      <td>3.500</td>\n",
       "      <td>0.000</td>\n",
       "      <td>487.950m</td>\n",
       "      <td>487.950m</td>\n",
       "      <td>-333.067a</td>\n",
       "      <td>0.000</td>\n",
       "      <td>0.000</td>\n",
       "    </tr>\n",
       "    <tr>\n",
       "      <th>Agg</th>\n",
       "      <td>12.250</td>\n",
       "      <td>12.250</td>\n",
       "      <td>0.000</td>\n",
       "      <td>553.283m</td>\n",
       "      <td>553.283m</td>\n",
       "      <td>0.000</td>\n",
       "      <td>286.888m</td>\n",
       "      <td>286.888m</td>\n",
       "    </tr>\n",
       "  </tbody>\n",
       "</table>\n",
       "</div>"
      ],
      "text/plain": [
       "        E[X]  Est E[X]  Err E[X]     CV(X)  Est CV(X)  Err CV(X)   Skew(X)  Est Skew(X)\n",
       "Freq   3.500       NaN       NaN  487.950m        NaN        NaN     0.000          NaN\n",
       "Sev    3.500     3.500     0.000  487.950m   487.950m  -333.067a     0.000        0.000\n",
       "Agg   12.250    12.250     0.000  553.283m   553.283m      0.000  286.888m     286.888m"
      ]
     },
     "metadata": {},
     "output_type": "display_data"
    },
    {
     "name": "stdout",
     "output_type": "stream",
     "text": [
      "\n",
      "time: 78 ms (started: 2023-05-18 17:11:03 +01:00)\n"
     ]
    }
   ],
   "source": [
    "url = 'http://192.168.4.43:1964/decl'\n",
    "\n",
    "# Define the JSON payload.\n",
    "payload = { 'decl' : [\n",
    "    \"agg HDRDR dfreq [1:3] dsev [1:6]\",\n",
    "    \"agg DRDR dfreq [1:6] dsev [1:6]\"\n",
    "        ]\n",
    "          }\n",
    "\n",
    "# Convert dictionary into json format\n",
    "json_payload = json.dumps(payload)\n",
    "\n",
    "# Make the request.\n",
    "response = requests.post(url, data=json_payload, headers=headers)\n",
    "\n",
    "# Print the status code and response body.\n",
    "print(f\"Status Code: {response.status_code}\")\n",
    "\n",
    "if response.status_code == 200:\n",
    "    d = json.loads(response.json()['result'])\n",
    "    for k, v in d.items():\n",
    "        print(k)\n",
    "        display(pd.DataFrame.from_dict(json.loads(v)))\n",
    "        print()\n",
    "else:\n",
    "    print(f\"Response Body: {response.text}\")"
   ]
  },
  {
   "cell_type": "code",
   "execution_count": null,
   "id": "02ad08f8-b630-4ae8-88fd-f2b46248823d",
   "metadata": {},
   "outputs": [],
   "source": []
  }
 ],
 "metadata": {
  "kernelspec": {
   "display_name": "Python 3 (ipykernel)",
   "language": "python",
   "name": "python3"
  },
  "language_info": {
   "codemirror_mode": {
    "name": "ipython",
    "version": 3
   },
   "file_extension": ".py",
   "mimetype": "text/x-python",
   "name": "python",
   "nbconvert_exporter": "python",
   "pygments_lexer": "ipython3",
   "version": "3.10.10"
  }
 },
 "nbformat": 4,
 "nbformat_minor": 5
}
